{
 "cells": [
  {
   "cell_type": "markdown",
   "metadata": {},
   "source": [
    "## Unique location conversion"
   ]
  },
  {
   "cell_type": "markdown",
   "metadata": {},
   "source": [
    "The below script has been sourced, with amendments, from the following repository: https://github.com/gsuareztangil/automatic-romancescam-digger. "
   ]
  },
  {
   "cell_type": "code",
   "execution_count": null,
   "metadata": {},
   "outputs": [],
   "source": [
    "import os\n",
    "import sys\n",
    "import time\n",
    "import json\n",
    "import random\n",
    "import pandas as pd\n",
    "from tqdm import tqdm\n",
    "\n",
    "from geopy.geocoders import Nominatim\n",
    "from geopy.exc import GeocoderTimedOut, GeocoderServiceError"
   ]
  },
  {
   "cell_type": "code",
   "execution_count": null,
   "metadata": {},
   "outputs": [],
   "source": [
    "geolocator = Nominatim(user_agent = \"146.70.133.46\")\n",
    "datadir = 'C:\\\\Users\\\\Harrison\\\\Documents\\\\Bristol MSc Data Science\\\\TB-3\\\\data\\\\dating\\\\prepared'"
   ]
  },
  {
   "cell_type": "code",
   "execution_count": null,
   "metadata": {},
   "outputs": [],
   "source": [
    "# Loop through all the prepared dating profiles and save the location.\n",
    "# Use the set function to find the unique locations only. \n",
    "\n",
    "locations = []\n",
    "\n",
    "for jsonfile in os.listdir(datadir):\n",
    "    profile = json.load(open(datadir+os.sep+jsonfile,'r'))\n",
    "    locations.append(profile['location'])\n",
    "\n",
    "locations_unique = (list(set(locations)))"
   ]
  },
  {
   "cell_type": "code",
   "execution_count": null,
   "metadata": {},
   "outputs": [],
   "source": [
    "# Use the geopy package to find the latitude, longitude, and address of each unique location. \n",
    "# Save the results in a csv file. \n",
    "\n",
    "location_map = []\n",
    "\n",
    "for location_name in tqdm(locations_unique):\n",
    "    try:\n",
    "        jitter = random.choice([0,1])\n",
    "        geo = geolocator.geocode(location_name, timeout=10)\n",
    "        location_map.append([location_name, geo.latitude, geo.longitude, geo.address.split(',')[-1].strip()])\n",
    "        time.sleep(1+jitter)\n",
    "    except:\n",
    "        time.sleep(1+jitter)\n",
    "        continue\n",
    "\n",
    "pd.DataFrame(location_map, columns = ['location', 'latitude', 'longitude', 'country']).to_csv(\"location_list.csv\")"
   ]
  }
 ],
 "metadata": {
  "kernelspec": {
   "display_name": "Python 3 (ipykernel)",
   "language": "python",
   "name": "python3"
  },
  "language_info": {
   "codemirror_mode": {
    "name": "ipython",
    "version": 3
   },
   "file_extension": ".py",
   "mimetype": "text/x-python",
   "name": "python",
   "nbconvert_exporter": "python",
   "pygments_lexer": "ipython3",
   "version": "3.9.7"
  }
 },
 "nbformat": 4,
 "nbformat_minor": 2
}
