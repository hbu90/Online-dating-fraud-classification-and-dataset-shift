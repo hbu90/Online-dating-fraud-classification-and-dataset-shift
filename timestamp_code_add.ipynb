{
 "cells": [
  {
   "cell_type": "markdown",
   "id": "df4c01ff",
   "metadata": {},
   "source": [
    "## Timestamp addition to real online dating profiles"
   ]
  },
  {
   "cell_type": "code",
   "execution_count": 6,
   "id": "e05efeb4",
   "metadata": {},
   "outputs": [],
   "source": [
    "# Add in the timestamp for all real profiles.\n",
    "# This have been saved from the scrape workbook - 'dating_real_download.ipynb'. \n",
    "\n",
    "import json\n",
    "import os\n",
    "import pandas as pd\n",
    "from tqdm import tqdm \n",
    "\n",
    "datadir = 'C:\\\\Users\\\\Harrison\\\\Documents\\\\Bristol MSc Data Science\\\\TB-3\\\\data\\\\dating'\n",
    "jdir = os.path.join(datadir, 'dating_real_timestamps\\\\')\n",
    "\n",
    "files = os.listdir(jdir)\n",
    "activity_list = pd.read_csv(\"activity_list.csv\")"
   ]
  },
  {
   "cell_type": "code",
   "execution_count": 8,
   "id": "b1c41897",
   "metadata": {},
   "outputs": [
    {
     "name": "stderr",
     "output_type": "stream",
     "text": [
      "100%|███████████████████████████████████████████████████████████████████████████| 96960/96960 [07:26<00:00, 217.17it/s]\n"
     ]
    }
   ],
   "source": [
    "# Look up the timestamp of last activity for each profile and add into JSON files.\n",
    "\n",
    "for file in tqdm(files):\n",
    "    try:\n",
    "        x = (activity_list[activity_list['username']==file[0:-5]][\"Last_activity\"]).values[0]\n",
    "        lastact_dict = {'last_activity' : x}\n",
    "    \n",
    "        with open((os.path.join(datadir, 'dating_real - Copy', file)), \"r\") as jsonFile:\n",
    "            a = json.load(jsonFile)\n",
    "        \n",
    "        a.update(lastact_dict)\n",
    "    \n",
    "        with open((os.path.join(datadir, 'dating_real - Copy', file)), \"w\") as jsonFile:\n",
    "            json.dump(a, jsonFile)\n",
    "    except:\n",
    "        pass"
   ]
  }
 ],
 "metadata": {
  "kernelspec": {
   "display_name": "Python 3 (ipykernel)",
   "language": "python",
   "name": "python3"
  },
  "language_info": {
   "codemirror_mode": {
    "name": "ipython",
    "version": 3
   },
   "file_extension": ".py",
   "mimetype": "text/x-python",
   "name": "python",
   "nbconvert_exporter": "python",
   "pygments_lexer": "ipython3",
   "version": "3.9.7"
  }
 },
 "nbformat": 4,
 "nbformat_minor": 5
}
